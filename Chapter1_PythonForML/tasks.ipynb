{
 "cells": [
  {
   "cell_type": "markdown",
   "id": "cfdab822",
   "metadata": {},
   "source": [
    "Task 1"
   ]
  },
  {
   "cell_type": "code",
   "execution_count": 1,
   "id": "64eb7099",
   "metadata": {},
   "outputs": [
    {
     "name": "stdout",
     "output_type": "stream",
     "text": [
      "Name is: jenish. Age is: 21. Skills are: ['lying', 'dying', 'skying', 'hing', 'fling']\n"
     ]
    }
   ],
   "source": [
    "name = input(\"Enter your name\")\n",
    "age = int(input(\"enter your age\"))\n",
    "skills = []\n",
    "for i in range(5):\n",
    "    skill = input(\"Enter skill\")\n",
    "    skills.append(skill)\n",
    "\n",
    "print(f'Name is: {name}. Age is: {age}. Skills are: {skills}')\n",
    "\n"
   ]
  },
  {
   "cell_type": "markdown",
   "id": "ae1ba05b",
   "metadata": {},
   "source": [
    "Task 2"
   ]
  },
  {
   "cell_type": "code",
   "execution_count": 6,
   "id": "4f1d7cdd",
   "metadata": {},
   "outputs": [
    {
     "name": "stdout",
     "output_type": "stream",
     "text": [
      "Passed\n"
     ]
    }
   ],
   "source": [
    "marks = [int(input(\"Enter marks\")) for x in range(5)]\n",
    "fail = False\n",
    "for mark in marks:\n",
    "    if mark <40:\n",
    "        fail = True\n",
    "        break\n",
    "\n",
    "if (fail):\n",
    "    print(\"Failed\")\n",
    "else:\n",
    "    print(\"Passed\")"
   ]
  },
  {
   "cell_type": "markdown",
   "id": "c292c16c",
   "metadata": {},
   "source": [
    "Task 3"
   ]
  },
  {
   "cell_type": "code",
   "execution_count": 8,
   "id": "35964e89",
   "metadata": {},
   "outputs": [
    {
     "name": "stdout",
     "output_type": "stream",
     "text": [
      "1 has Failed\n",
      "2 has Failed\n",
      "3 has Failed\n",
      "4 has Failed\n",
      "5 has passed\n",
      "6 has passed\n",
      "7 has passed\n",
      "8 has passed\n",
      "9 has passed\n",
      "10 has passed\n",
      "[25, 15, 35, 45, 50, 60, 70, 80, 90, 100]\n"
     ]
    }
   ],
   "source": [
    "marks = [int(input(\"Enter marks of 10 students\")) for x in range(10)]\n",
    "updated_marks = [mark+5 if mark < 50 else mark for mark in marks]\n",
    "for i, mark in enumerate(updated_marks):\n",
    "    if mark < 50:\n",
    "        print(f\"{i + 1} has Failed\")\n",
    "    else:\n",
    "        print(f\"{i + 1} has passed\")\n",
    "\n",
    "print(updated_marks)"
   ]
  },
  {
   "cell_type": "markdown",
   "id": "23c0f534",
   "metadata": {},
   "source": [
    "Task 4"
   ]
  },
  {
   "cell_type": "code",
   "execution_count": 9,
   "id": "d52a0455",
   "metadata": {},
   "outputs": [
    {
     "name": "stdout",
     "output_type": "stream",
     "text": [
      "[]\n",
      "['To Kill a Mocking Bird', 'The Great Gatsby']\n",
      "The Great Gatsby has been borrowed.\n",
      "['To Kill a Mocking Bird']\n"
     ]
    }
   ],
   "source": [
    "class Library:\n",
    "    def __init__(self):\n",
    "        self.books = []\n",
    "\n",
    "    def add_book(self, book):\n",
    "        self.books.append(book)\n",
    "    \n",
    "    def display_book(self):\n",
    "        print(self.books)\n",
    "    \n",
    "    def borrow_book(self, book):\n",
    "        if book in self.books:\n",
    "            print(f'{book} has been borrowed.')\n",
    "            self.books.remove(book)\n",
    "        else:\n",
    "            print(\"Book unavailable\")\n",
    "\n",
    "lib = Library()\n",
    "\n",
    "lib.display_book()\n",
    "\n",
    "lib.add_book(\"To Kill a Mocking Bird\")\n",
    "lib.add_book(\"The Great Gatsby\")\n",
    "\n",
    "lib.display_book()\n",
    "\n",
    "lib.borrow_book(\"The Great Gatsby\")\n",
    "\n",
    "lib.display_book()"
   ]
  },
  {
   "cell_type": "markdown",
   "id": "c95fe1ac",
   "metadata": {},
   "source": [
    "Task 5"
   ]
  },
  {
   "cell_type": "code",
   "execution_count": 19,
   "id": "8b97de67",
   "metadata": {},
   "outputs": [
    {
     "name": "stdout",
     "output_type": "stream",
     "text": [
      "[ 44  56 392 476 631 121 196 526  92 794 922 561 686 908 545 146  38 246\n",
      " 564 334 941 211 319 927  75 750 581 679  79 592 957 546 413 427 797 495\n",
      " 872 834 499 928 476 683 900 323 229 116 798 299 199 766 831 787 757 554\n",
      " 424 516 230 613 894 369 628 211 967 292 798 437 241 455 714 700 394 321\n",
      " 495 631 383 930 635 996 736 718 869 584 276 951 406 762  57 672 336 462\n",
      " 753 974 915 691 875 243 771 330 681 991]\n",
      "552.45 562.5 273.5060648322081\n",
      "[552.45 552.45 552.45 552.45 631.   552.45 552.45 552.45 552.45 794.\n",
      " 922.   561.   686.   908.   552.45 552.45 552.45 552.45 564.   552.45\n",
      " 941.   552.45 552.45 927.   552.45 750.   581.   679.   552.45 592.\n",
      " 957.   552.45 552.45 552.45 797.   552.45 872.   834.   552.45 928.\n",
      " 552.45 683.   900.   552.45 552.45 552.45 798.   552.45 552.45 766.\n",
      " 831.   787.   757.   554.   552.45 552.45 552.45 613.   894.   552.45\n",
      " 628.   552.45 967.   552.45 798.   552.45 552.45 552.45 714.   700.\n",
      " 552.45 552.45 552.45 631.   552.45 930.   635.   996.   736.   718.\n",
      " 869.   584.   552.45 951.   552.45 762.   552.45 672.   552.45 552.45\n",
      " 753.   974.   915.   691.   875.   552.45 771.   552.45 681.   991.  ]\n"
     ]
    }
   ],
   "source": [
    "import numpy as np\n",
    "\n",
    "x = np.random.randint(1, 1000, 100)\n",
    "print(x)\n",
    "mean = np.mean(x)\n",
    "median = np.median(x)\n",
    "std = np.std(x)\n",
    "\n",
    "updated_x = [mean if num < mean else num for num in x]\n",
    "updated_x = np.array(updated_x)\n",
    "print(mean, median, std)\n",
    "print(updated_x)"
   ]
  },
  {
   "cell_type": "markdown",
   "id": "f76fd14f",
   "metadata": {},
   "source": [
    "Task 6"
   ]
  },
  {
   "cell_type": "code",
   "execution_count": null,
   "id": "872898c9",
   "metadata": {},
   "outputs": [],
   "source": [
    "import pandas as pd\n",
    "import numpy as np\n",
    "data = {\n",
    "    \"Name\": [\"Alice\", \"Bob\", \"Charlie\", \"David\", \"Eva\", \"Frank\"],\n",
    "    \"Subject\": [\"Math\", \"Science\", \"English\", \"Math\", \"Science\", \"English\"],\n",
    "    \"Score\": [88, 67, 92, 74, 59, 81],\n",
    "    \"Grade\": [\"A\", np.nan, \"A+\", \"B\", np.nan, \"A\"]\n",
    "}\n",
    "\n"
   ]
  }
 ],
 "metadata": {
  "kernelspec": {
   "display_name": "GenAI",
   "language": "python",
   "name": "python3"
  },
  "language_info": {
   "codemirror_mode": {
    "name": "ipython",
    "version": 3
   },
   "file_extension": ".py",
   "mimetype": "text/x-python",
   "name": "python",
   "nbconvert_exporter": "python",
   "pygments_lexer": "ipython3",
   "version": "3.12.10"
  }
 },
 "nbformat": 4,
 "nbformat_minor": 5
}
